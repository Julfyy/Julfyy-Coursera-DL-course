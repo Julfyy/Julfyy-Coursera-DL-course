{
  "metadata": {
    "kernelspec": {
      "language": "python",
      "display_name": "Python 3",
      "name": "python3"
    },
    "language_info": {
      "pygments_lexer": "ipython3",
      "nbconvert_exporter": "python",
      "version": "3.6.4",
      "file_extension": ".py",
      "codemirror_mode": {
        "name": "ipython",
        "version": 3
      },
      "name": "python",
      "mimetype": "text/x-python"
    },
    "colab": {
      "name": "week5.ipynb",
      "provenance": [],
      "collapsed_sections": []
    },
    "accelerator": "GPU",
    "gpuClass": "standard"
  },
  "nbformat_minor": 0,
  "nbformat": 4,
  "cells": [
    {
      "cell_type": "markdown",
      "source": [
        "\n",
        "# Generative Dog Images Competition\n",
        "\n",
        "The dataset contains of 2 zip files:\n",
        "*    20579 photos of dogs with lables\n",
        "*     data about labels & file names\n",
        "\n",
        "\n",
        "The goal of competition is to create a GAN which can generate a unique image of a dog.\n",
        "\n",
        "A submission  would be the one best picture of dog. But this competition is closed and no longer accepting submissions :(\n",
        "\n",
        "\n",
        "*So, I will just attach my generated photo in end of the notebook*\n",
        "\n",
        "[Git repository with code and outputs](https://github.com/Julfyy/Julfyy-Coursera-DL-course)\n"
      ],
      "metadata": {
        "id": "MvhFUlxocC9c"
      }
    },
    {
      "cell_type": "markdown",
      "source": [
        "# Import libraries"
      ],
      "metadata": {
        "id": "PzS35NDscC9e"
      }
    },
    {
      "cell_type": "code",
      "source": [
        "import pandas as pd \n",
        "\n",
        "import tensorflow as tf\n",
        "from tensorflow import keras\n",
        "from tensorflow.keras import layers\n",
        "import numpy as np\n",
        "import matplotlib.pyplot as plt\n",
        "\n",
        "import os\n",
        "for dirname, _, filenames in os.walk('/kaggle/input'):\n",
        "    for filename in filenames:\n",
        "        print(os.path.join(dirname, filename))"
      ],
      "metadata": {
        "_uuid": "8f2839f25d086af736a60e9eeb907d3b93b6e0e5",
        "_cell_guid": "b1076dfc-b9ad-4769-8c92-a6c4dae69d19",
        "execution": {
          "iopub.status.busy": "2022-05-28T21:42:08.323436Z",
          "iopub.execute_input": "2022-05-28T21:42:08.324044Z",
          "iopub.status.idle": "2022-05-28T21:42:15.110484Z",
          "shell.execute_reply.started": "2022-05-28T21:42:08.323945Z",
          "shell.execute_reply": "2022-05-28T21:42:15.109334Z"
        },
        "trusted": true,
        "id": "kMO-17AdcC9e"
      },
      "execution_count": 1,
      "outputs": []
    },
    {
      "cell_type": "code",
      "source": [
        "from google.colab import drive\n",
        "drive.mount('/content/drive')"
      ],
      "metadata": {
        "id": "Olory5QKoZAu"
      },
      "execution_count": null,
      "outputs": []
    },
    {
      "cell_type": "markdown",
      "source": [
        "## Load dataset and pick random seed"
      ],
      "metadata": {
        "id": "zp655judcC9g"
      }
    },
    {
      "cell_type": "code",
      "source": [
        "import zipfile\n",
        "\n",
        "with zipfile.ZipFile(\"../content/drive/MyDrive/generative-dog-images/all-dogs.zip\",\"r\") as zip_ref:\n",
        "    zip_ref.extractall(\"/kaggle/generative-dog-images/all-dogs\")"
      ],
      "metadata": {
        "execution": {
          "iopub.status.busy": "2022-05-28T21:42:15.112837Z",
          "iopub.execute_input": "2022-05-28T21:42:15.113671Z",
          "iopub.status.idle": "2022-05-28T21:42:41.154913Z",
          "shell.execute_reply.started": "2022-05-28T21:42:15.113602Z",
          "shell.execute_reply": "2022-05-28T21:42:41.153855Z"
        },
        "trusted": true,
        "id": "rXKt_FAzcC9g"
      },
      "execution_count": 3,
      "outputs": []
    },
    {
      "cell_type": "code",
      "source": [
        "import zipfile\n",
        "\n",
        "with zipfile.ZipFile(\"../content/drive/MyDrive/generative-dog-images/Annotation.zip\",\"r\") as zip_ref:\n",
        "    zip_ref.extractall(\"/kaggle/generative-dog-images/Annotation\")"
      ],
      "metadata": {
        "id": "2r6Fg3vPsL8p"
      },
      "execution_count": 4,
      "outputs": []
    },
    {
      "cell_type": "code",
      "source": [
        "SEED = 3\n",
        "np.random.seed(SEED)\n",
        "random_dim = 128\n",
        "ROOT = '/kaggle/generative-dog-images/'"
      ],
      "metadata": {
        "execution": {
          "iopub.status.busy": "2022-05-28T21:42:41.156672Z",
          "iopub.execute_input": "2022-05-28T21:42:41.157105Z",
          "iopub.status.idle": "2022-05-28T21:42:41.162336Z",
          "shell.execute_reply.started": "2022-05-28T21:42:41.157056Z",
          "shell.execute_reply": "2022-05-28T21:42:41.161313Z"
        },
        "trusted": true,
        "id": "NpoPsqk5cC9h"
      },
      "execution_count": 37,
      "outputs": []
    },
    {
      "cell_type": "markdown",
      "source": [
        "# Data Processing\n",
        "\n",
        "**Read all images and put them into one keras dataset** \n",
        "\n",
        "Also converting rgb values to the range from 0 to 1 and redusing size to 64x64 px\n"
      ],
      "metadata": {
        "id": "vM6Oq4yMcC9i"
      }
    },
    {
      "cell_type": "code",
      "source": [
        "dataset = keras.preprocessing.image_dataset_from_directory(\n",
        "    ROOT+\"all-dogs/\", label_mode=None, image_size=(64, 64), batch_size=32\n",
        ")\n",
        "dataset = dataset.map(lambda x: x / 255.0)\n",
        "\n",
        "for x in dataset:\n",
        "    plt.axis(\"off\")\n",
        "    plt.imshow((x.numpy() * 255).astype(\"int32\")[0])\n",
        "    break"
      ],
      "metadata": {
        "execution": {
          "iopub.status.busy": "2022-05-28T21:42:41.165061Z",
          "iopub.execute_input": "2022-05-28T21:42:41.166168Z",
          "iopub.status.idle": "2022-05-28T21:42:47.194339Z",
          "shell.execute_reply.started": "2022-05-28T21:42:41.166121Z",
          "shell.execute_reply": "2022-05-28T21:42:47.193141Z"
        },
        "trusted": true,
        "id": "vaAkCEh7cC9i",
        "colab": {
          "base_uri": "https://localhost:8080/",
          "height": 265
        },
        "outputId": "247052d8-7191-4717-989a-304b5a80d9bb"
      },
      "execution_count": 38,
      "outputs": [
        {
          "output_type": "stream",
          "name": "stdout",
          "text": [
            "Found 20579 files belonging to 1 classes.\n"
          ]
        },
        {
          "output_type": "display_data",
          "data": {
            "text/plain": [
              "<Figure size 432x288 with 1 Axes>"
            ],
            "image/png": "[encoded data removed]"
          },
          "metadata": {
            "needs_background": "light"
          }
        }
      ]
    },
    {
      "cell_type": "markdown",
      "source": [
        "# GAN creation\n",
        "\n",
        "GANs consist of a **discriminator**, a **generator** and an **optimizer**"
      ],
      "metadata": {
        "id": "hiwEnHWocC9j"
      }
    },
    {
      "cell_type": "markdown",
      "source": [
        "**Discriminator** with input layer 64x64x3 px (because of rgb)\n",
        "\n",
        "I'm using the leakyReLu and the Dropout layers for a better result and more controlled losses.\n",
        "\n",
        "Activation function is sigmoid (we have only real and fake photos)\n",
        "\n",
        "*Generator has the same parameters as Discriminator*\n"
      ],
      "metadata": {
        "id": "dY4mm5mfcC9j"
      }
    },
    {
      "cell_type": "code",
      "source": [
        "discriminator = keras.Sequential(\n",
        "    [\n",
        "        keras.Input(shape=(64, 64, 3)),\n",
        "        layers.Conv2D(64, kernel_size=4, strides=2, padding=\"same\"),\n",
        "        layers.LeakyReLU(alpha=0.2),\n",
        "        layers.Conv2D(128, kernel_size=4, strides=2, padding=\"same\"),\n",
        "        layers.LeakyReLU(alpha=0.2),\n",
        "        layers.Conv2D(128, kernel_size=4, strides=2, padding=\"same\"),\n",
        "        layers.LeakyReLU(alpha=0.2),\n",
        "        layers.Flatten(),\n",
        "        layers.Dropout(0.2),\n",
        "        layers.Dense(1, activation=\"sigmoid\"),\n",
        "    ],\n",
        "    name=\"discriminator\",\n",
        ")\n",
        "discriminator.summary()"
      ],
      "metadata": {
        "execution": {
          "iopub.status.busy": "2022-05-28T21:42:47.199972Z",
          "iopub.execute_input": "2022-05-28T21:42:47.20074Z",
          "iopub.status.idle": "2022-05-28T21:42:47.316791Z",
          "shell.execute_reply.started": "2022-05-28T21:42:47.200689Z",
          "shell.execute_reply": "2022-05-28T21:42:47.315593Z"
        },
        "trusted": true,
        "id": "RLGw4oEdcC9k"
      },
      "execution_count": null,
      "outputs": []
    },
    {
      "cell_type": "code",
      "source": [
        "latent_dim = 128\n",
        "\n",
        "generator = keras.Sequential(\n",
        "    [\n",
        "        keras.Input(shape=(latent_dim,)),\n",
        "        layers.Dense(8 * 8 * 128),\n",
        "        layers.Reshape((8, 8, 128)),\n",
        "        layers.Conv2DTranspose(128, kernel_size=4, strides=2, padding=\"same\"),\n",
        "        layers.LeakyReLU(alpha=0.2),\n",
        "        layers.Conv2DTranspose(256, kernel_size=4, strides=2, padding=\"same\"),\n",
        "        layers.LeakyReLU(alpha=0.2),\n",
        "        layers.Conv2DTranspose(512, kernel_size=4, strides=2, padding=\"same\"),\n",
        "        layers.LeakyReLU(alpha=0.2),\n",
        "        layers.Conv2D(3, kernel_size=5, padding=\"same\", activation=\"sigmoid\"),\n",
        "    ],\n",
        "    name=\"generator\",\n",
        ")\n",
        "generator.summary()"
      ],
      "metadata": {
        "execution": {
          "iopub.status.busy": "2022-05-28T21:42:47.318551Z",
          "iopub.execute_input": "2022-05-28T21:42:47.319267Z",
          "iopub.status.idle": "2022-05-28T21:42:47.419737Z",
          "shell.execute_reply.started": "2022-05-28T21:42:47.31922Z",
          "shell.execute_reply": "2022-05-28T21:42:47.418605Z"
        },
        "trusted": true,
        "id": "V7A4sML1cC9l"
      },
      "execution_count": null,
      "outputs": []
    },
    {
      "cell_type": "markdown",
      "source": [
        "**Gan class** same as in lectures"
      ],
      "metadata": {
        "id": "s3iO9jLxcC9l"
      }
    },
    {
      "cell_type": "code",
      "source": [
        "class GAN(keras.Model):\n",
        "    def __init__(self, discriminator, generator, latent_dim):\n",
        "        super(GAN, self).__init__()\n",
        "        self.discriminator = discriminator\n",
        "        self.generator = generator\n",
        "        self.latent_dim = latent_dim\n",
        "\n",
        "    def compile(self, d_optimizer, g_optimizer, loss_fn):\n",
        "        super(GAN, self).compile()\n",
        "        self.d_optimizer = d_optimizer\n",
        "        self.g_optimizer = g_optimizer\n",
        "        self.loss_fn = loss_fn\n",
        "        self.d_loss_metric = keras.metrics.Mean(name=\"d_loss\")\n",
        "        self.g_loss_metric = keras.metrics.Mean(name=\"g_loss\")\n",
        "\n",
        "    @property\n",
        "    def metrics(self):\n",
        "        return [self.d_loss_metric, self.g_loss_metric]\n",
        "\n",
        "    def train_step(self, real_images):\n",
        "        # Sample random points in the latent space\n",
        "        batch_size = tf.shape(real_images)[0]\n",
        "        random_latent_vectors = tf.random.normal(shape=(batch_size, self.latent_dim))\n",
        "\n",
        "        # Decode them to fake images\n",
        "        generated_images = self.generator(random_latent_vectors)\n",
        "\n",
        "        # Combine them with real images\n",
        "        combined_images = tf.concat([generated_images, real_images], axis=0)\n",
        "\n",
        "        # Assemble labels discriminating real from fake images\n",
        "        labels = tf.concat(\n",
        "            [tf.ones((batch_size, 1)), tf.zeros((batch_size, 1))], axis=0\n",
        "        )\n",
        "        # Add random noise to the labels - important trick!\n",
        "        labels += 0.05 * tf.random.uniform(tf.shape(labels))\n",
        "\n",
        "        # Train the discriminator\n",
        "        with tf.GradientTape() as tape:\n",
        "            predictions = self.discriminator(combined_images)\n",
        "            d_loss = self.loss_fn(labels, predictions)\n",
        "        grads = tape.gradient(d_loss, self.discriminator.trainable_weights)\n",
        "        self.d_optimizer.apply_gradients(\n",
        "            zip(grads, self.discriminator.trainable_weights)\n",
        "        )\n",
        "\n",
        "        # Sample random points in the latent space\n",
        "        random_latent_vectors = tf.random.normal(shape=(batch_size, self.latent_dim))\n",
        "\n",
        "        # Assemble labels that say \"all real images\"\n",
        "        misleading_labels = tf.zeros((batch_size, 1))\n",
        "\n",
        "        # Train the generator (note that we should *not* update the weights\n",
        "        # of the discriminator)!\n",
        "        with tf.GradientTape() as tape:\n",
        "            predictions = self.discriminator(self.generator(random_latent_vectors))\n",
        "            g_loss = self.loss_fn(misleading_labels, predictions)\n",
        "        grads = tape.gradient(g_loss, self.generator.trainable_weights)\n",
        "        self.g_optimizer.apply_gradients(zip(grads, self.generator.trainable_weights))\n",
        "\n",
        "        # Update metrics\n",
        "        self.d_loss_metric.update_state(d_loss)\n",
        "        self.g_loss_metric.update_state(g_loss)\n",
        "        return {\n",
        "            \"d_loss\": self.d_loss_metric.result(),\n",
        "            \"g_loss\": self.g_loss_metric.result(),\n",
        "        }"
      ],
      "metadata": {
        "execution": {
          "iopub.status.busy": "2022-05-28T21:42:47.421588Z",
          "iopub.execute_input": "2022-05-28T21:42:47.422323Z",
          "iopub.status.idle": "2022-05-28T21:42:47.441378Z",
          "shell.execute_reply.started": "2022-05-28T21:42:47.422276Z",
          "shell.execute_reply": "2022-05-28T21:42:47.44016Z"
        },
        "trusted": true,
        "id": "JvG36pUPcC9m"
      },
      "execution_count": 39,
      "outputs": []
    },
    {
      "cell_type": "markdown",
      "source": [
        "To visualize our results let's create a monitor for our GAN. Just save some fake \"photo\" of dogs once in epoch (or in 10 epochs)"
      ],
      "metadata": {
        "id": "Gy18N5pjcC9n"
      }
    },
    {
      "cell_type": "code",
      "source": [
        "class GANMonitor(keras.callbacks.Callback):\n",
        "    def __init__(self, num_img=3, latent_dim=128):\n",
        "        self.num_img = num_img\n",
        "        self.latent_dim = latent_dim\n",
        "\n",
        "    def on_epoch_end(self, epoch, logs=None):\n",
        "        random_latent_vectors = tf.random.normal(shape=(self.num_img, self.latent_dim))\n",
        "        generated_images = self.model.generator(random_latent_vectors)\n",
        "        generated_images *= 255\n",
        "        generated_images.numpy()\n",
        "        for i in range(self.num_img):\n",
        "            img = keras.preprocessing.image.array_to_img(generated_images[i])\n",
        "            img.save(\"/kaggle/generative-dog-images/res/generated_img_%03d_%d.png\" % (epoch, i))"
      ],
      "metadata": {
        "execution": {
          "iopub.status.busy": "2022-05-28T21:42:47.443332Z",
          "iopub.execute_input": "2022-05-28T21:42:47.443986Z",
          "iopub.status.idle": "2022-05-28T21:42:47.460471Z",
          "shell.execute_reply.started": "2022-05-28T21:42:47.443938Z",
          "shell.execute_reply": "2022-05-28T21:42:47.459028Z"
        },
        "trusted": true,
        "id": "x8YkHh0xcC9n"
      },
      "execution_count": 40,
      "outputs": []
    },
    {
      "cell_type": "markdown",
      "source": [
        "# GAN Training - first attempt\n",
        "\n",
        "I'll do only 5 epochs and small learning rate to see how this GAN will evolve. \n",
        "Loss function is binary crossentropy"
      ],
      "metadata": {
        "id": "Pbtb77wzcC9o"
      }
    },
    {
      "cell_type": "code",
      "source": [
        "import time\n",
        "epochs = 5  \n",
        "os.mkdir(\"/kaggle/generative-dog-images/res\")\n",
        "\n",
        "gan = GAN(discriminator=discriminator, generator=generator, latent_dim=latent_dim)\n",
        "gan.compile(\n",
        "    d_optimizer=keras.optimizers.Adam(learning_rate=0.0001),\n",
        "    g_optimizer=keras.optimizers.Adam(learning_rate=0.0001),\n",
        "    loss_fn=keras.losses.BinaryCrossentropy(),\n",
        ")\n",
        "\n",
        "start = time.time()\n",
        "\n",
        "gan.fit(\n",
        "    dataset, epochs=epochs, callbacks=[GANMonitor(num_img=3, latent_dim=latent_dim)]\n",
        ")\n",
        "\n",
        "print(\"--- %s seconds ---\" % (time.time() - start))"
      ],
      "metadata": {
        "execution": {
          "iopub.status.busy": "2022-05-28T21:42:47.462554Z",
          "iopub.execute_input": "2022-05-28T21:42:47.463054Z"
        },
        "trusted": true,
        "id": "MOTMBH9fcC9o"
      },
      "execution_count": null,
      "outputs": []
    },
    {
      "cell_type": "markdown",
      "source": [
        "# First result\n",
        "\n",
        "The results are really far away from looking like a dog, so let's continue training "
      ],
      "metadata": {
        "id": "icWekrc7cC9p"
      }
    },
    {
      "cell_type": "code",
      "source": [
        "import cv2\n",
        "    \n",
        "fig = plt.figure(figsize=(9, 15))\n",
        "\n",
        "for i in range(5):\n",
        "    for j in range(3):\n",
        "        img = cv2.imread(ROOT+\"res/generated_img_%03d_%d.png\" % (i, j))\n",
        "        fig.add_subplot(5, 3, i*3+j+1)\n",
        "        plt.imshow(img)\n",
        "        plt.axis(\"off\")\n",
        "        plt.title(\"Epoch %03d,photo #%d\"%(i,j))"
      ],
      "metadata": {
        "trusted": true,
        "id": "lG7qLQgUcC9p"
      },
      "execution_count": null,
      "outputs": []
    },
    {
      "cell_type": "markdown",
      "source": [
        "# GAN Training - second attempt\n",
        "\n",
        "Photos are being saved every 10th epoch"
      ],
      "metadata": {
        "id": "3qn3DKaecC9q"
      }
    },
    {
      "cell_type": "code",
      "source": [
        "class GANMonitor2(keras.callbacks.Callback):\n",
        "    def __init__(self, num_img=3, latent_dim=128):\n",
        "        self.num_img = num_img\n",
        "        self.latent_dim = latent_dim\n",
        "\n",
        "    def on_epoch_end(self, epoch, logs=None):\n",
        "        random_latent_vectors = tf.random.normal(shape=(self.num_img, self.latent_dim))\n",
        "        generated_images = self.model.generator(random_latent_vectors)\n",
        "        generated_images *= 255\n",
        "        generated_images.numpy()\n",
        "        if (epoch % 10 == 0):\n",
        "            for i in range(self.num_img):\n",
        "                img = keras.preprocessing.image.array_to_img(generated_images[i])\n",
        "                img.save(\"/kaggle/generative-dog-images/res/generated_img_%03d_%d.png\" % (epoch, i))\n"
      ],
      "metadata": {
        "trusted": true,
        "id": "fe2T7RYncC9q"
      },
      "execution_count": 41,
      "outputs": []
    },
    {
      "cell_type": "code",
      "source": [
        "epochs2 = 50\n",
        "\n",
        "start = time.time()\n",
        "gan.fit(\n",
        "    dataset, epochs=epochs2, callbacks=[GANMonitor2(num_img=3, latent_dim=latent_dim)]\n",
        ")\n",
        "print(\"--- %s seconds ---\" % (time.time() - start))"
      ],
      "metadata": {
        "trusted": true,
        "id": "c0jiun05cC9r"
      },
      "execution_count": null,
      "outputs": []
    },
    {
      "cell_type": "markdown",
      "source": [
        "# Results\n",
        "\n",
        "\n",
        "The result is far from ideal, but I can recognize some features of dogs.\n",
        "There should definitely be more epochs, but it takes too much time to train :(\n",
        "  \n",
        "![generated_img_010_2.png](data:image/png;base64,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)![generated_img_040_1.png](data:image/png;base64,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)![generated_img_030_2.png](data:image/png;base64,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)\n",
        "  "
      ],
      "metadata": {
        "id": "6dTi2HGWcC9s"
      }
    },
    {
      "cell_type": "code",
      "source": [
        "fig = plt.figure(figsize=(9, 20))\n",
        "\n",
        "for i in range(15):\n",
        "    for j in range(3):\n",
        "        img = cv2.imread(ROOT+\"kaggle/generative-dog-images/res/generated_img_%03d_%d.png\" % (i*10, j))\n",
        "        fig.add_subplot(15, 3, i*3+j+1)\n",
        "        plt.imshow(img)\n",
        "        plt.axis(\"off\")\n",
        "        plt.title(\"Epoch %03d,photo #%d\"%(i*10+10,j))"
      ],
      "metadata": {
        "execution": {
          "iopub.status.busy": "2022-05-29T11:05:40.814954Z",
          "iopub.execute_input": "2022-05-29T11:05:40.815265Z",
          "iopub.status.idle": "2022-05-29T11:05:40.897744Z",
          "shell.execute_reply.started": "2022-05-29T11:05:40.815188Z",
          "shell.execute_reply": "2022-05-29T11:05:40.896165Z"
        },
        "trusted": true,
        "id": "-H3CiWz4cC9s"
      },
      "execution_count": null,
      "outputs": []
    }
  ]
}